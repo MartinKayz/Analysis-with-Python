{
 "cells": [
  {
   "cell_type": "code",
   "execution_count": 1,
   "metadata": {},
   "outputs": [],
   "source": [
    "# Importing the required libraries\n",
    "import pandas as pd\n",
    "from sklearn.tree import DecisionTreeRegressor\n",
    "\n",
    "# Importing the data into the notebook\n",
    "file_path = './train.csv'\n",
    "\n",
    "# Reading the data\n",
    "home_data = pd.read_csv(file_path)\n",
    "\n",
    "# Determining the Target Prediction from the data\n",
    "y = home_data.SalePrice\n",
    "\n",
    "# Determing the features used to predict the Target\n",
    "feature_columns = ['LotArea', 'YearBuilt', '1stFlrSF', '2ndFlrSF', 'FullBath', 'BedroomAbvGr', 'TotRmsAbvGrd']\n",
    "\n",
    "# Setting our Features ready\n",
    "X = home_data[feature_columns]\n",
    "\n"
   ]
  },
  {
   "cell_type": "code",
   "execution_count": 4,
   "metadata": {},
   "outputs": [
    {
     "name": "stdout",
     "output_type": "stream",
     "text": [
      "First actual sample Predictions:  [208500. 181500. 223500. 140000. 250000.]\n",
      "==============================================\n",
      "Actual target values for the homes:  [208500, 181500, 223500, 140000, 250000]\n"
     ]
    }
   ],
   "source": [
    "# Specifying the Model\n",
    "iowa_model = DecisionTreeRegressor()\n",
    "\n",
    "# Fitting the model\n",
    "iowa_model.fit(X, y)\n",
    "\n",
    "# Printing sample results\n",
    "print(\"First actual sample Predictions: \", iowa_model.predict(X.head()))\n",
    "print(\"==============================================\")\n",
    "# Printing actual values for those homes\n",
    "print(\"Actual target values for the homes: \", y.head().tolist())\n"
   ]
  },
  {
   "cell_type": "code",
   "execution_count": null,
   "metadata": {},
   "outputs": [],
   "source": []
  }
 ],
 "metadata": {
  "kernelspec": {
   "display_name": "Python 3.8.10 ('jupyter-env': venv)",
   "language": "python",
   "name": "python3"
  },
  "language_info": {
   "codemirror_mode": {
    "name": "ipython",
    "version": 3
   },
   "file_extension": ".py",
   "mimetype": "text/x-python",
   "name": "python",
   "nbconvert_exporter": "python",
   "pygments_lexer": "ipython3",
   "version": "3.8.10"
  },
  "orig_nbformat": 4,
  "vscode": {
   "interpreter": {
    "hash": "99b83388fcbeac248336bc18455a470b6fb5b37e15737716e2e3a20056a33b4a"
   }
  }
 },
 "nbformat": 4,
 "nbformat_minor": 2
}
