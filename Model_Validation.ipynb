{
 "cells": [
  {
   "cell_type": "code",
   "execution_count": 1,
   "metadata": {},
   "outputs": [],
   "source": [
    "# Importing the required libraries\n",
    "import pandas as pd\n",
    "from sklearn.tree import DecisionTreeRegressor\n",
    "\n",
    "# Importing the data into the notebook\n",
    "file_path = './train.csv'\n",
    "\n",
    "# Reading the data\n",
    "home_data = pd.read_csv(file_path)\n",
    "\n",
    "# Determining the Target Prediction from the data\n",
    "y = home_data.SalePrice\n",
    "\n",
    "# Determing the features used to predict the Target\n",
    "feature_columns = ['LotArea', 'YearBuilt', '1stFlrSF', '2ndFlrSF', 'FullBath', 'BedroomAbvGr', 'TotRmsAbvGrd']\n",
    "\n",
    "# Setting our Features ready\n",
    "X = home_data[feature_columns]\n",
    "\n"
   ]
  },
  {
   "cell_type": "code",
   "execution_count": 4,
   "metadata": {},
   "outputs": [
    {
     "name": "stdout",
     "output_type": "stream",
     "text": [
      "First actual sample Predictions:  [208500. 181500. 223500. 140000. 250000.]\n",
      "==============================================\n",
      "Actual target values for the homes:  [208500, 181500, 223500, 140000, 250000]\n"
     ]
    }
   ],
   "source": [
    "# Specifying the Model\n",
    "iowa_model = DecisionTreeRegressor()\n",
    "\n",
    "# Fitting the model\n",
    "iowa_model.fit(X, y)\n",
    "\n",
    "# Printing sample results\n",
    "print(\"First actual sample Predictions: \", iowa_model.predict(X.head()))\n",
    "print(\"==============================================\")\n",
    "# Printing actual values for those homes\n",
    "print(\"Actual target values for the homes: \", y.head().tolist())\n"
   ]
  },
  {
   "cell_type": "code",
   "execution_count": 5,
   "metadata": {},
   "outputs": [],
   "source": [
    "# SPLITTING THE DATA\n",
    "# Importing the train_test_split to help out\n",
    "from sklearn.model_selection import train_test_split\n",
    "\n",
    "# Splitting the data\n",
    "train_X, val_X, train_y, val_y = train_test_split(X, y, random_state=1)\n",
    "\n"
   ]
  },
  {
   "cell_type": "code",
   "execution_count": 6,
   "metadata": {},
   "outputs": [
    {
     "data": {
      "text/html": [
       "<style>#sk-container-id-1 {color: black;background-color: white;}#sk-container-id-1 pre{padding: 0;}#sk-container-id-1 div.sk-toggleable {background-color: white;}#sk-container-id-1 label.sk-toggleable__label {cursor: pointer;display: block;width: 100%;margin-bottom: 0;padding: 0.3em;box-sizing: border-box;text-align: center;}#sk-container-id-1 label.sk-toggleable__label-arrow:before {content: \"▸\";float: left;margin-right: 0.25em;color: #696969;}#sk-container-id-1 label.sk-toggleable__label-arrow:hover:before {color: black;}#sk-container-id-1 div.sk-estimator:hover label.sk-toggleable__label-arrow:before {color: black;}#sk-container-id-1 div.sk-toggleable__content {max-height: 0;max-width: 0;overflow: hidden;text-align: left;background-color: #f0f8ff;}#sk-container-id-1 div.sk-toggleable__content pre {margin: 0.2em;color: black;border-radius: 0.25em;background-color: #f0f8ff;}#sk-container-id-1 input.sk-toggleable__control:checked~div.sk-toggleable__content {max-height: 200px;max-width: 100%;overflow: auto;}#sk-container-id-1 input.sk-toggleable__control:checked~label.sk-toggleable__label-arrow:before {content: \"▾\";}#sk-container-id-1 div.sk-estimator input.sk-toggleable__control:checked~label.sk-toggleable__label {background-color: #d4ebff;}#sk-container-id-1 div.sk-label input.sk-toggleable__control:checked~label.sk-toggleable__label {background-color: #d4ebff;}#sk-container-id-1 input.sk-hidden--visually {border: 0;clip: rect(1px 1px 1px 1px);clip: rect(1px, 1px, 1px, 1px);height: 1px;margin: -1px;overflow: hidden;padding: 0;position: absolute;width: 1px;}#sk-container-id-1 div.sk-estimator {font-family: monospace;background-color: #f0f8ff;border: 1px dotted black;border-radius: 0.25em;box-sizing: border-box;margin-bottom: 0.5em;}#sk-container-id-1 div.sk-estimator:hover {background-color: #d4ebff;}#sk-container-id-1 div.sk-parallel-item::after {content: \"\";width: 100%;border-bottom: 1px solid gray;flex-grow: 1;}#sk-container-id-1 div.sk-label:hover label.sk-toggleable__label {background-color: #d4ebff;}#sk-container-id-1 div.sk-serial::before {content: \"\";position: absolute;border-left: 1px solid gray;box-sizing: border-box;top: 0;bottom: 0;left: 50%;z-index: 0;}#sk-container-id-1 div.sk-serial {display: flex;flex-direction: column;align-items: center;background-color: white;padding-right: 0.2em;padding-left: 0.2em;position: relative;}#sk-container-id-1 div.sk-item {position: relative;z-index: 1;}#sk-container-id-1 div.sk-parallel {display: flex;align-items: stretch;justify-content: center;background-color: white;position: relative;}#sk-container-id-1 div.sk-item::before, #sk-container-id-1 div.sk-parallel-item::before {content: \"\";position: absolute;border-left: 1px solid gray;box-sizing: border-box;top: 0;bottom: 0;left: 50%;z-index: -1;}#sk-container-id-1 div.sk-parallel-item {display: flex;flex-direction: column;z-index: 1;position: relative;background-color: white;}#sk-container-id-1 div.sk-parallel-item:first-child::after {align-self: flex-end;width: 50%;}#sk-container-id-1 div.sk-parallel-item:last-child::after {align-self: flex-start;width: 50%;}#sk-container-id-1 div.sk-parallel-item:only-child::after {width: 0;}#sk-container-id-1 div.sk-dashed-wrapped {border: 1px dashed gray;margin: 0 0.4em 0.5em 0.4em;box-sizing: border-box;padding-bottom: 0.4em;background-color: white;}#sk-container-id-1 div.sk-label label {font-family: monospace;font-weight: bold;display: inline-block;line-height: 1.2em;}#sk-container-id-1 div.sk-label-container {text-align: center;}#sk-container-id-1 div.sk-container {/* jupyter's `normalize.less` sets `[hidden] { display: none; }` but bootstrap.min.css set `[hidden] { display: none !important; }` so we also need the `!important` here to be able to override the default hidden behavior on the sphinx rendered scikit-learn.org. See: https://github.com/scikit-learn/scikit-learn/issues/21755 */display: inline-block !important;position: relative;}#sk-container-id-1 div.sk-text-repr-fallback {display: none;}</style><div id=\"sk-container-id-1\" class=\"sk-top-container\"><div class=\"sk-text-repr-fallback\"><pre>DecisionTreeRegressor()</pre><b>In a Jupyter environment, please rerun this cell to show the HTML representation or trust the notebook. <br />On GitHub, the HTML representation is unable to render, please try loading this page with nbviewer.org.</b></div><div class=\"sk-container\" hidden><div class=\"sk-item\"><div class=\"sk-estimator sk-toggleable\"><input class=\"sk-toggleable__control sk-hidden--visually\" id=\"sk-estimator-id-1\" type=\"checkbox\" checked><label for=\"sk-estimator-id-1\" class=\"sk-toggleable__label sk-toggleable__label-arrow\">DecisionTreeRegressor</label><div class=\"sk-toggleable__content\"><pre>DecisionTreeRegressor()</pre></div></div></div></div></div>"
      ],
      "text/plain": [
       "DecisionTreeRegressor()"
      ]
     },
     "execution_count": 6,
     "metadata": {},
     "output_type": "execute_result"
    }
   ],
   "source": [
    "# SPECIFY AND FIT THE MODEL\n",
    "# Specify the new model\n",
    "iowa_model = DecisionTreeRegressor()\n",
    "\n",
    "# Fit the model\n",
    "iowa_model.fit(train_X, train_y)"
   ]
  },
  {
   "cell_type": "code",
   "execution_count": 7,
   "metadata": {},
   "outputs": [
    {
     "name": "stdout",
     "output_type": "stream",
     "text": [
      "[186500. 184000. 130000.  92000. 157900. 220000. 335000. 144152. 215000.\n",
      " 262000. 180500. 119000. 175900. 210000. 251000. 127500. 109900. 149350.\n",
      " 235000. 156000. 149900. 265979. 193000. 426000. 100000. 187000. 145000.\n",
      " 180000. 611657. 135000. 128000.  91500. 112500. 113000. 145000. 326000.\n",
      " 110000. 132000. 305000. 128000. 162900. 120000. 110000. 124000. 213000.\n",
      " 180000.  79000. 193879. 265900. 274970. 151500. 325000.  80000. 240000.\n",
      " 203000. 109500. 120500. 162000. 153000. 187000. 165000. 335000. 129000.\n",
      " 124900. 174000. 134500. 127000. 223500. 146800. 153000. 159500. 153575.\n",
      " 335000. 177500. 143000. 202500. 168500. 105000. 305900. 193879. 226000.\n",
      " 140200. 134900. 140000. 213000. 108959. 149500. 190000. 175900. 179900.\n",
      " 250580. 157000. 120500. 147500. 118000. 117000. 110000. 139000. 148500.\n",
      " 148000. 226000. 130500. 127000.  88000. 135000. 177000. 176432. 107400.\n",
      " 147000. 260000. 132000. 144000. 171000. 181134. 226700. 189000. 265900.\n",
      " 112000. 223500. 187500. 159000. 279500. 290000. 135000. 266500. 162500.\n",
      " 395192. 135750. 155000. 212000. 275500. 134800.  84000. 122900.  80000.\n",
      " 191000. 755000. 147000. 248000. 112500. 145000. 359100. 145000. 192500.\n",
      " 149000. 252000. 105900. 215000. 220000. 138500. 189000. 183900. 120500.\n",
      " 181000. 173000. 335000.  67000. 149350.  67000. 156000. 119000. 110500.\n",
      " 149500. 147000. 156000. 155000. 177000. 161750. 125000. 105000. 284000.\n",
      " 177000. 200000. 312500. 215200. 135960. 225000. 237000. 107000. 167900.\n",
      " 132500. 155835. 165500. 138500. 319000. 160000. 394617. 302000. 153575.\n",
      " 127500.  88000. 139000.  89500. 132500. 134800. 335000. 248900. 155000.\n",
      " 147000.  86000. 191000. 200000. 181900. 213000. 319900. 110000. 194000.\n",
      " 340000. 256000. 280000. 185900. 105500. 155000. 151500. 255500. 275000.\n",
      " 130000.  92900. 190000. 100000. 755000. 138500. 179400. 126000. 127000.\n",
      " 109008. 197000. 245500. 171900. 162000. 128000. 173000. 132000. 118000.\n",
      " 227000. 118964. 260000. 116000. 223500. 315750. 236500. 129500. 141000.\n",
      " 184000.  84000. 128000. 154000. 205000. 110000. 141000. 124500. 130500.\n",
      " 173900. 181500. 165500. 104900. 179000.  89000. 372402. 118500. 180000.\n",
      " 190000. 207500. 181000.  98000. 157000. 141000.  84000. 139000. 100000.\n",
      " 159000. 165600. 116000. 118500. 167900. 145000. 112000. 151500. 250000.\n",
      " 128000. 147000. 125000. 145000. 151000. 284000. 221000. 141000. 129000.\n",
      " 290000. 108000.  81000. 275500. 140000. 132000. 203000. 200000. 213000.\n",
      " 214000. 139000.  91500. 160000. 155000. 120000. 180000. 165500. 223000.\n",
      " 139000. 174500. 150000. 185000. 165000. 176000. 127000. 227000. 146000.\n",
      "  99900. 275000. 180500. 180000. 157000. 186500. 165150. 137500. 219500.\n",
      " 155000. 345000. 197000. 205000. 161750. 159434. 156000. 196000. 252678.\n",
      " 245350. 213000. 150900. 143750. 138500. 260000. 189000. 213250. 207500.\n",
      "  80000. 221000. 109500. 155000. 165000. 149350. 204900. 105900. 155000.\n",
      " 176000. 385000. 139400. 147000. 139600. 227875. 176000. 116000. 325300.\n",
      " 109900. 188500. 135000. 284000. 201800.]\n"
     ]
    }
   ],
   "source": [
    "# MAKING PREDICTIONS WITH VALID DATA\n",
    "val_preditions = iowa_model.predict(val_X)\n",
    "print(val_preditions)"
   ]
  },
  {
   "cell_type": "code",
   "execution_count": 9,
   "metadata": {},
   "outputs": [
    {
     "name": "stdout",
     "output_type": "stream",
     "text": [
      "258     231500\n",
      "267     179500\n",
      "288     122000\n",
      "649      84500\n",
      "1233    142000\n",
      "         ...  \n",
      "1017    187500\n",
      "534     178000\n",
      "1334    125000\n",
      "1369    232000\n",
      "628     135000\n",
      "Name: SalePrice, Length: 365, dtype: int64\n"
     ]
    }
   ],
   "source": [
    "# printing the actual values from the valid data\n",
    "\n",
    "print(val_y)"
   ]
  },
  {
   "cell_type": "code",
   "execution_count": 10,
   "metadata": {},
   "outputs": [
    {
     "name": "stdout",
     "output_type": "stream",
     "text": [
      "29416.07123287671\n"
     ]
    }
   ],
   "source": [
    "# CALCULATING MEAN ABSOLUTE ERROR IN VALIDATION DATA\n",
    "from sklearn.metrics import mean_absolute_error\n",
    "val_mae = mean_absolute_error(val_y, val_preditions)\n",
    "\n",
    "print(val_mae)"
   ]
  },
  {
   "cell_type": "code",
   "execution_count": null,
   "metadata": {},
   "outputs": [],
   "source": []
  }
 ],
 "metadata": {
  "kernelspec": {
   "display_name": "Python 3.8.10 ('jupyter-env': venv)",
   "language": "python",
   "name": "python3"
  },
  "language_info": {
   "codemirror_mode": {
    "name": "ipython",
    "version": 3
   },
   "file_extension": ".py",
   "mimetype": "text/x-python",
   "name": "python",
   "nbconvert_exporter": "python",
   "pygments_lexer": "ipython3",
   "version": "3.8.10"
  },
  "orig_nbformat": 4,
  "vscode": {
   "interpreter": {
    "hash": "99b83388fcbeac248336bc18455a470b6fb5b37e15737716e2e3a20056a33b4a"
   }
  }
 },
 "nbformat": 4,
 "nbformat_minor": 2
}
