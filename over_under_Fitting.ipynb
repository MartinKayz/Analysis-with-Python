{
 "cells": [
  {
   "cell_type": "code",
   "execution_count": 1,
   "metadata": {},
   "outputs": [],
   "source": [
    "from itertools import filterfalse\n",
    "import pandas as pd\n",
    "\n",
    "file_path = './melb_data.csv/melb_data.csv'\n",
    "\n",
    "melb_data = pd.read_csv(file_path)\n",
    "\n",
    "filtered_melb_data = melb_data.dropna(axis=0)\n",
    "\n",
    "# Chosing target and features\n",
    "y = filtered_melb_data.Price\n",
    "\n",
    "melb_features = ['Rooms', 'Bathroom', 'Landsize', 'BuildingArea', \n",
    "                        'YearBuilt', 'Lattitude', 'Longtitude']\n",
    "X = filtered_melb_data[melb_features]"
   ]
  },
  {
   "cell_type": "code",
   "execution_count": 2,
   "metadata": {},
   "outputs": [],
   "source": [
    "# Spliting the data into training and validation data for features and target\n",
    "\n",
    "from sklearn.model_selection import train_test_split\n",
    "train_X, val_X, train_y, val_y = train_test_split(X, y, random_state=0)"
   ]
  },
  {
   "cell_type": "code",
   "execution_count": 4,
   "metadata": {},
   "outputs": [
    {
     "name": "stdout",
     "output_type": "stream",
     "text": [
      "Max leaf nodes: 5 \t\t Mean Absolute Error: 347380\n",
      "Max leaf nodes: 50 \t\t Mean Absolute Error: 258171\n",
      "Max leaf nodes: 500 \t\t Mean Absolute Error: 243495\n",
      "Max leaf nodes: 5000 \t\t Mean Absolute Error: 255575\n"
     ]
    }
   ],
   "source": [
    "# Making the model and ...\n",
    "# Calculating the mean absolute error\n",
    "\n",
    "from sklearn.tree import DecisionTreeRegressor\n",
    "from sklearn.metrics import mean_absolute_error\n",
    "\n",
    "# Using a function to compare MAE scores from different values for max_leaf_nodes\n",
    "\n",
    "def get_mae(max_leaf_nodes, train_X, val_X, train_y, val_y):\n",
    "    # Specify the model\n",
    "    model = DecisionTreeRegressor(max_leaf_nodes=max_leaf_nodes, random_state=0)\n",
    "    # Fit the model\n",
    "    model.fit(train_X, train_y)\n",
    "    # Predict the target using valid data features\n",
    "    pred_vals = model.predict(val_X)\n",
    "    # calculate the mean absoulte error\n",
    "    mae = mean_absolute_error(val_y, pred_vals)\n",
    "    return(mae)\n",
    "\n",
    "# TESTING with different values of leaf nodes \n",
    "# using a for loop\n",
    "\n",
    "for max_leaf_nodes in [5,50,500, 5000]:\n",
    "    my_mae = get_mae(max_leaf_nodes, train_X, val_X, train_y, val_y)\n",
    "    print(\"Max leaf nodes: %d \\t\\t Mean Absolute Error: %d\" %(max_leaf_nodes, my_mae))"
   ]
  },
  {
   "cell_type": "code",
   "execution_count": null,
   "metadata": {},
   "outputs": [],
   "source": []
  }
 ],
 "metadata": {
  "kernelspec": {
   "display_name": "Python 3.8.10 ('jupyter-env': venv)",
   "language": "python",
   "name": "python3"
  },
  "language_info": {
   "codemirror_mode": {
    "name": "ipython",
    "version": 3
   },
   "file_extension": ".py",
   "mimetype": "text/x-python",
   "name": "python",
   "nbconvert_exporter": "python",
   "pygments_lexer": "ipython3",
   "version": "3.8.10"
  },
  "orig_nbformat": 4,
  "vscode": {
   "interpreter": {
    "hash": "99b83388fcbeac248336bc18455a470b6fb5b37e15737716e2e3a20056a33b4a"
   }
  }
 },
 "nbformat": 4,
 "nbformat_minor": 2
}
