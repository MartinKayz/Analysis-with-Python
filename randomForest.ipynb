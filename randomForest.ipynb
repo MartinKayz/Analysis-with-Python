{
 "cells": [
  {
   "cell_type": "code",
   "execution_count": 10,
   "metadata": {},
   "outputs": [
    {
     "name": "stdout",
     "output_type": "stream",
     "text": [
      "The Validation MAE for the random Forest Model: 21857.15912981083\n"
     ]
    }
   ],
   "source": [
    "import pandas as pd\n",
    "from sklearn.metrics import mean_absolute_error\n",
    "from sklearn.model_selection import train_test_split\n",
    "from sklearn.ensemble import RandomForestRegressor\n",
    "\n",
    "file_path = \"./train.csv\"\n",
    "# Read data on file\n",
    "home_data = pd.read_csv(file_path)\n",
    "\n",
    "# Drop any missing values from the data\n",
    "# home_data = home_data.dropna(axis=0)\n",
    "\n",
    "# Create a target from the data\n",
    "y = home_data.SalePrice\n",
    "# print(y)\n",
    "\n",
    "# Create features from the data\n",
    "home_features = ['LotArea', 'YearBuilt', '1stFlrSF', '2ndFlrSF', 'FullBath', 'BedroomAbvGr', 'TotRmsAbvGrd']\n",
    "X = home_data[home_features]\n",
    "\n",
    "# print(X)\n",
    "\n",
    "# # Split data into training and validation Daata\n",
    "train_X, val_X, train_y, val_y = train_test_split(X, y, random_state=1)\n",
    "\n",
    "# # Define the model as a random forest\n",
    "rf_model = RandomForestRegressor(random_state=1)\n",
    "\n",
    "# # Fit the model using the training data\n",
    "rf_model.fit(train_X, train_y)\n",
    "\n",
    "# # Predict using validation data\n",
    "rf_predictions = rf_model.predict(val_X)\n",
    "\n",
    "# # Calculate the mean absolute error for the random forest model\n",
    "rf_mae = mean_absolute_error(val_y, rf_predictions)\n",
    "\n",
    "# Printing the results to the screen\n",
    "print(\"The Validation MAE for the random Forest Model: {}\".format(rf_mae))\n"
   ]
  },
  {
   "cell_type": "code",
   "execution_count": null,
   "metadata": {},
   "outputs": [],
   "source": []
  }
 ],
 "metadata": {
  "kernelspec": {
   "display_name": "Python 3.8.10 ('jupyter-env': venv)",
   "language": "python",
   "name": "python3"
  },
  "language_info": {
   "codemirror_mode": {
    "name": "ipython",
    "version": 3
   },
   "file_extension": ".py",
   "mimetype": "text/x-python",
   "name": "python",
   "nbconvert_exporter": "python",
   "pygments_lexer": "ipython3",
   "version": "3.8.10"
  },
  "orig_nbformat": 4,
  "vscode": {
   "interpreter": {
    "hash": "99b83388fcbeac248336bc18455a470b6fb5b37e15737716e2e3a20056a33b4a"
   }
  }
 },
 "nbformat": 4,
 "nbformat_minor": 2
}
